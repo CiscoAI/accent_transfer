{
 "cells": [
  {
   "cell_type": "code",
   "execution_count": 1,
   "metadata": {},
   "outputs": [],
   "source": [
    "import numpy as np"
   ]
  },
  {
   "cell_type": "code",
   "execution_count": 26,
   "metadata": {},
   "outputs": [
    {
     "ename": "TypeError",
     "evalue": "data type not understood",
     "output_type": "error",
     "traceback": [
      "\u001b[0;31m---------------------------------------------------------------------------\u001b[0m",
      "\u001b[0;31mTypeError\u001b[0m                                 Traceback (most recent call last)",
      "\u001b[0;32m<ipython-input-26-a47c25f854f2>\u001b[0m in \u001b[0;36m<module>\u001b[0;34m()\u001b[0m\n\u001b[1;32m      3\u001b[0m             \u001b[0mnp\u001b[0m\u001b[0;34m.\u001b[0m\u001b[0mzeros\u001b[0m\u001b[0;34m(\u001b[0m\u001b[0mnumber_of_train_samples\u001b[0m\u001b[0;34m)\u001b[0m\u001b[0;34m,\u001b[0m\u001b[0;34m\u001b[0m\u001b[0m\n\u001b[1;32m      4\u001b[0m             np.array(np.full(number_of_validation_samples, 2),\n\u001b[0;32m----> 5\u001b[0;31m             np.ones(3)))\n\u001b[0m",
      "\u001b[0;31mTypeError\u001b[0m: data type not understood"
     ]
    }
   ],
   "source": [
    "number_of_train_samples, number_of_validation_samples, number_of_test_samples = 8000, 1000, 1000\n",
    "mask = np.append(\n",
    "            np.zeros(number_of_train_samples),\n",
    "            np.array(np.full(number_of_validation_samples, 2),\n",
    "            np.ones(3)))"
   ]
  },
  {
   "cell_type": "code",
   "execution_count": 27,
   "metadata": {},
   "outputs": [
    {
     "data": {
      "text/plain": [
       "array([0, 0, 1, 1, 2, 2])"
      ]
     },
     "execution_count": 27,
     "metadata": {},
     "output_type": "execute_result"
    }
   ],
   "source": [
    "np.append([0, 0], [[1, 1], [2, 2]])"
   ]
  },
  {
   "cell_type": "code",
   "execution_count": 28,
   "metadata": {},
   "outputs": [
    {
     "data": {
      "text/plain": [
       "array([ 1.,  1.,  1.])"
      ]
     },
     "execution_count": 28,
     "metadata": {},
     "output_type": "execute_result"
    }
   ],
   "source": [
    "mask[8001]"
   ]
  },
  {
   "cell_type": "code",
   "execution_count": 29,
   "metadata": {},
   "outputs": [],
   "source": [
    "number_of_test_samples = 1000"
   ]
  },
  {
   "cell_type": "code",
   "execution_count": 35,
   "metadata": {},
   "outputs": [
    {
     "data": {
      "text/plain": [
       "array([ 2.,  2.,  2.,  2.,  2.,  1.,  1.,  1.])"
      ]
     },
     "execution_count": 35,
     "metadata": {},
     "output_type": "execute_result"
    }
   ],
   "source": [
    "np.append(np.full(5, 2), np.ones(3))"
   ]
  },
  {
   "cell_type": "code",
   "execution_count": 38,
   "metadata": {},
   "outputs": [
    {
     "data": {
      "text/plain": [
       "array([ 2.,  2.,  2.,  2.,  2.,  1.,  1.,  1.,  0.,  0.,  0.,  0.,  0.])"
      ]
     },
     "execution_count": 38,
     "metadata": {},
     "output_type": "execute_result"
    }
   ],
   "source": [
    "np.concatenate((np.full(5, 2), np.ones(3), np.zeros(5)))"
   ]
  },
  {
   "cell_type": "code",
   "execution_count": 39,
   "metadata": {},
   "outputs": [],
   "source": [
    "with open('./data/fra-eng/output.txt') as file:\n",
    "    i = 0\n",
    "    positions = []\n",
    "    line = file.readline()\n",
    "    print (line)\n",
    "    while line and i < 10:\n",
    "        positions"
   ]
  },
  {
   "cell_type": "code",
   "execution_count": 142,
   "metadata": {},
   "outputs": [],
   "source": [
    "def get_lines_positions(path_to_file):\n",
    "        # returns an array of positions of lines beginnings\n",
    "        positions = [0]\n",
    "        key = \"\"\n",
    "        with open(path_to_file) as file:\n",
    "            line = file.readline()\n",
    "            while line:\n",
    "                if len(line.split()) == 2:\n",
    "                    if line.split()[1] != key:\n",
    "                        positions.append(file.tell())\n",
    "                        line = file.readline()\n",
    "                        #key = line.split()[1] \n",
    "                    else:\n",
    "                        line = file.readline()\n",
    "                        \n",
    "        print (positions)\n",
    "        return [(begin, end) for begin, end in zip(positions[:-1], positions[1:])]"
   ]
  },
  {
   "cell_type": "code",
   "execution_count": 143,
   "metadata": {},
   "outputs": [
    {
     "name": "stdout",
     "output_type": "stream",
     "text": [
      "[0, 9, 18, 26, 34]\n"
     ]
    }
   ],
   "source": [
    "pos = get_lines_positions('./data/fra-eng/t.txt')"
   ]
  },
  {
   "cell_type": "code",
   "execution_count": 144,
   "metadata": {},
   "outputs": [
    {
     "data": {
      "text/plain": [
       "[(0, 9), (9, 18), (18, 26), (26, 34)]"
      ]
     },
     "execution_count": 144,
     "metadata": {},
     "output_type": "execute_result"
    }
   ],
   "source": [
    "pos[:10]"
   ]
  },
  {
   "cell_type": "code",
   "execution_count": 157,
   "metadata": {},
   "outputs": [
    {
     "name": "stdout",
     "output_type": "stream",
     "text": [
      "----\n",
      "0\n",
      "dsda a\n",
      "\n",
      "dsad adff\n",
      "\n",
      "----\n",
      "9\n",
      "ad adff\n",
      "\n",
      "fdsf bbb\n",
      "\n",
      "----\n",
      "18\n",
      "dsf bbb\n",
      "\n",
      "----\n",
      "26\n",
      "dsa bbb\n",
      "\n"
     ]
    }
   ],
   "source": [
    "with open('./data/fra-eng/t.txt', 'r+') as file:\n",
    "    for pair in pos:\n",
    "        print ('----')\n",
    "        file.seek(pair[0])\n",
    "        print (pair[0])\n",
    "        while file.tell() < pair[1]:\n",
    "            line = file.readline()\n",
    "            print (line)"
   ]
  },
  {
   "cell_type": "code",
   "execution_count": 163,
   "metadata": {},
   "outputs": [
    {
     "name": "stdout",
     "output_type": "stream",
     "text": [
      "dsda a\n",
      "\n"
     ]
    },
    {
     "ename": "OSError",
     "evalue": "telling position disabled by next() call",
     "output_type": "error",
     "traceback": [
      "\u001b[0;31m---------------------------------------------------------------------------\u001b[0m",
      "\u001b[0;31mOSError\u001b[0m                                   Traceback (most recent call last)",
      "\u001b[0;32m<ipython-input-163-b2924dbf1842>\u001b[0m in \u001b[0;36m<module>\u001b[0;34m()\u001b[0m\n\u001b[1;32m      7\u001b[0m             \u001b[0;32mif\u001b[0m \u001b[0;34m(\u001b[0m\u001b[0mline\u001b[0m\u001b[0;34m.\u001b[0m\u001b[0msplit\u001b[0m\u001b[0;34m(\u001b[0m\u001b[0;34m)\u001b[0m\u001b[0;34m[\u001b[0m\u001b[0;36m1\u001b[0m\u001b[0;34m]\u001b[0m\u001b[0;34m)\u001b[0m \u001b[0;34m!=\u001b[0m \u001b[0mkey\u001b[0m\u001b[0;34m:\u001b[0m\u001b[0;34m\u001b[0m\u001b[0m\n\u001b[1;32m      8\u001b[0m                 \u001b[0mprint\u001b[0m \u001b[0;34m(\u001b[0m\u001b[0mline\u001b[0m\u001b[0;34m)\u001b[0m\u001b[0;34m\u001b[0m\u001b[0m\n\u001b[0;32m----> 9\u001b[0;31m                 \u001b[0mprint\u001b[0m \u001b[0;34m(\u001b[0m\u001b[0mfile\u001b[0m\u001b[0;34m.\u001b[0m\u001b[0mtell\u001b[0m\u001b[0;34m(\u001b[0m\u001b[0;34m)\u001b[0m\u001b[0;34m)\u001b[0m\u001b[0;34m\u001b[0m\u001b[0m\n\u001b[0m\u001b[1;32m     10\u001b[0m                 \u001b[0mkey\u001b[0m \u001b[0;34m=\u001b[0m \u001b[0mline\u001b[0m\u001b[0;34m.\u001b[0m\u001b[0msplit\u001b[0m\u001b[0;34m(\u001b[0m\u001b[0;34m)\u001b[0m\u001b[0;34m[\u001b[0m\u001b[0;36m1\u001b[0m\u001b[0;34m]\u001b[0m\u001b[0;34m\u001b[0m\u001b[0m\n\u001b[1;32m     11\u001b[0m \u001b[0;34m\u001b[0m\u001b[0m\n",
      "\u001b[0;31mOSError\u001b[0m: telling position disabled by next() call"
     ]
    }
   ],
   "source": [
    "with open('./data/fra-eng/t.txt', 'r+') as file:\n",
    "    key = \"\"\n",
    "    positions = []\n",
    "    for line in file:\n",
    "        #print (file.tell())\n",
    "        if len(line.split()) == 2:\n",
    "            if (line.split()[1]) != key:\n",
    "                print (line)\n",
    "                print (file.tell())\n",
    "                key = line.split()[1]\n",
    "            "
   ]
  },
  {
   "cell_type": "code",
   "execution_count": 213,
   "metadata": {},
   "outputs": [],
   "source": [
    "def get_lines_positions(path):\n",
    "    positions = [0]\n",
    "    lines_counts = []\n",
    "    counter = 0\n",
    "    key = \"\"\n",
    "    with open(path, mode) as f:\n",
    "        line = f.readline()\n",
    "        print (line)\n",
    "        while line:\n",
    "            print ('---')\n",
    "            print (f.tell())\n",
    "            beginning = f.tell()\n",
    "            line = f.readline()\n",
    "            if len(line.split()) == 2:\n",
    "                if line.split()[1] != key:\n",
    "                    positions.append(beginning)\n",
    "                    key = line.split()[1]\n",
    "                    print (key)\n",
    "            print (line)\n",
    "        positions.append(f.tell())\n",
    "    return [(begin, end) for begin, end in zip(positions[:-1], positions[1:])], lines_counts"
   ]
  },
  {
   "cell_type": "code",
   "execution_count": 221,
   "metadata": {},
   "outputs": [
    {
     "data": {
      "text/plain": [
       "'a 5'"
      ]
     },
     "execution_count": 221,
     "metadata": {},
     "output_type": "execute_result"
    }
   ],
   "source": [
    "'a %s' % (5)"
   ]
  },
  {
   "cell_type": "code",
   "execution_count": 214,
   "metadata": {
    "scrolled": true
   },
   "outputs": [
    {
     "name": "stdout",
     "output_type": "stream",
     "text": [
      "dsda a\n",
      "\n",
      "---\n",
      "7\n",
      "adff\n",
      "dsad adff\n",
      "\n",
      "---\n",
      "17\n",
      "bbb\n",
      "fdsf bbb\n",
      "\n",
      "---\n",
      "26\n",
      "dsa bbb\n",
      "\n",
      "---\n",
      "34\n",
      "\n"
     ]
    }
   ],
   "source": [
    "pos = get_lines_positions('./data/fra-eng/t.txt')"
   ]
  },
  {
   "cell_type": "code",
   "execution_count": 215,
   "metadata": {},
   "outputs": [
    {
     "data": {
      "text/plain": [
       "[(0, 7), (7, 17), (17, 34)]"
      ]
     },
     "execution_count": 215,
     "metadata": {},
     "output_type": "execute_result"
    }
   ],
   "source": [
    "pos"
   ]
  },
  {
   "cell_type": "code",
   "execution_count": 222,
   "metadata": {},
   "outputs": [
    {
     "data": {
      "text/plain": [
       "[(0, 7), (7, 17), (17, 34)]"
      ]
     },
     "execution_count": 222,
     "metadata": {},
     "output_type": "execute_result"
    }
   ],
   "source": [
    "pos"
   ]
  },
  {
   "cell_type": "code",
   "execution_count": 225,
   "metadata": {},
   "outputs": [
    {
     "ename": "OSError",
     "evalue": "telling position disabled by next() call",
     "output_type": "error",
     "traceback": [
      "\u001b[0;31m---------------------------------------------------------------------------\u001b[0m",
      "\u001b[0;31mOSError\u001b[0m                                   Traceback (most recent call last)",
      "\u001b[0;32m<ipython-input-225-828118c76d60>\u001b[0m in \u001b[0;36m<module>\u001b[0;34m()\u001b[0m\n\u001b[1;32m      3\u001b[0m \u001b[0;32mwith\u001b[0m \u001b[0mopen\u001b[0m\u001b[0;34m(\u001b[0m\u001b[0mpath\u001b[0m\u001b[0;34m,\u001b[0m \u001b[0mmode\u001b[0m\u001b[0;34m)\u001b[0m \u001b[0;32mas\u001b[0m \u001b[0mf\u001b[0m\u001b[0;34m:\u001b[0m\u001b[0;34m\u001b[0m\u001b[0m\n\u001b[1;32m      4\u001b[0m     \u001b[0;32mfor\u001b[0m \u001b[0mline\u001b[0m \u001b[0;32min\u001b[0m \u001b[0mf\u001b[0m\u001b[0;34m:\u001b[0m\u001b[0;34m\u001b[0m\u001b[0m\n\u001b[0;32m----> 5\u001b[0;31m         \u001b[0mf\u001b[0m\u001b[0;34m.\u001b[0m\u001b[0mtell\u001b[0m\u001b[0;34m(\u001b[0m\u001b[0;34m)\u001b[0m\u001b[0;34m\u001b[0m\u001b[0m\n\u001b[0m",
      "\u001b[0;31mOSError\u001b[0m: telling position disabled by next() call"
     ]
    }
   ],
   "source": [
    "path = './data/fra-eng/t.txt'\n",
    "mode = 'r+'\n",
    "with open(path, mode) as f:\n",
    "    for line in f:\n",
    "        f.tell()"
   ]
  },
  {
   "cell_type": "code",
   "execution_count": 220,
   "metadata": {
    "scrolled": false
   },
   "outputs": [
    {
     "name": "stdout",
     "output_type": "stream",
     "text": [
      "---\n",
      "dsda a\n",
      "\n",
      "---\n",
      "dsad adff\n",
      "\n",
      "---\n",
      "fdsf bbb\n",
      "\n",
      "dsa bbb\n",
      "\n"
     ]
    }
   ],
   "source": [
    "path = './data/fra-eng/t.txt'\n",
    "mode = 'r+'\n",
    "with open(path, mode) as f:\n",
    "    for pair in pos:\n",
    "        print ('---')\n",
    "        f.seek(pair[0])\n",
    "        line = f.readline()\n",
    "        print (line)\n",
    "        while line and f.tell() < pair[1]:\n",
    "            line = f.readline()\n",
    "            print (line)"
   ]
  },
  {
   "cell_type": "code",
   "execution_count": null,
   "metadata": {},
   "outputs": [],
   "source": [
    "def get_pairs(path, positions):\n",
    "    with open(path, mode) as f:\n",
    "    for pair in pos:\n",
    "        print ('---')\n",
    "        f.seek(pair[0])\n",
    "        line = f.readline()\n",
    "        print (line)\n",
    "        while line and f.tell() < pair[1]:\n",
    "            line = f.readline()\n",
    "            print (line)"
   ]
  },
  {
   "cell_type": "code",
   "execution_count": null,
   "metadata": {},
   "outputs": [],
   "source": []
  },
  {
   "cell_type": "code",
   "execution_count": null,
   "metadata": {},
   "outputs": [],
   "source": []
  },
  {
   "cell_type": "code",
   "execution_count": null,
   "metadata": {},
   "outputs": [],
   "source": []
  },
  {
   "cell_type": "code",
   "execution_count": null,
   "metadata": {},
   "outputs": [],
   "source": []
  },
  {
   "cell_type": "code",
   "execution_count": null,
   "metadata": {},
   "outputs": [],
   "source": []
  },
  {
   "cell_type": "code",
   "execution_count": null,
   "metadata": {},
   "outputs": [],
   "source": []
  },
  {
   "cell_type": "code",
   "execution_count": null,
   "metadata": {},
   "outputs": [],
   "source": []
  },
  {
   "cell_type": "code",
   "execution_count": 179,
   "metadata": {},
   "outputs": [
    {
     "name": "stdout",
     "output_type": "stream",
     "text": [
      "dsda a\n",
      "\n",
      "---\n",
      "7\n",
      "adff\n",
      "dsad adff\n",
      "\n",
      "---\n",
      "17\n",
      "bbb\n",
      "fdsf bbb\n",
      "\n",
      "---\n",
      "26\n",
      "dsa bbb\n",
      "\n",
      "---\n",
      "34\n",
      "\n",
      "[0, 7, 17]\n"
     ]
    }
   ],
   "source": [
    "path = './data/fra-eng/t.txt'\n",
    "mode = 'r+'\n",
    "positions = [0]\n",
    "key = \"\"\n",
    "with open(path, mode) as f:\n",
    "    line = f.readline()\n",
    "    print (line)\n",
    "    while line:\n",
    "        print ('---')\n",
    "        print (f.tell())\n",
    "        beginning = f.tell()\n",
    "        line = f.readline()\n",
    "        if len(line.split()) == 2:\n",
    "            if line.split()[1] != key:\n",
    "                positions.append(beginning)\n",
    "                key = line.split()[1]\n",
    "                print (key)\n",
    "        print (line)\n",
    "        \n",
    "print (positions)"
   ]
  },
  {
   "cell_type": "code",
   "execution_count": 170,
   "metadata": {},
   "outputs": [
    {
     "name": "stdout",
     "output_type": "stream",
     "text": [
      "dsda a\n",
      "\n"
     ]
    }
   ],
   "source": [
    "path = './data/fra-eng/t.txt'\n",
    "mode = 'r+'\n",
    "with open(path, mode) as f:\n",
    "    f.seek(0)\n",
    "    line = f.readline()\n",
    "    print (line)"
   ]
  },
  {
   "cell_type": "code",
   "execution_count": null,
   "metadata": {},
   "outputs": [],
   "source": []
  }
 ],
 "metadata": {
  "kernelspec": {
   "display_name": "Python 3",
   "language": "python",
   "name": "python3"
  },
  "language_info": {
   "codemirror_mode": {
    "name": "ipython",
    "version": 3
   },
   "file_extension": ".py",
   "mimetype": "text/x-python",
   "name": "python",
   "nbconvert_exporter": "python",
   "pygments_lexer": "ipython3",
   "version": "3.5.4"
  }
 },
 "nbformat": 4,
 "nbformat_minor": 2
}
